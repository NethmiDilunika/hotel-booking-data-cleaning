{
 "cells": [
  {
   "cell_type": "markdown",
   "metadata": {
    "id": "lJDdj9kisWxm"
   },
   "source": [
    "Phase 01"
   ]
  },
  {
   "cell_type": "markdown",
   "metadata": {
    "id": "PQYfI1d7r9FO"
   },
   "source": [
    "1.1 Initial Data Inspection"
   ]
  },
  {
   "cell_type": "code",
   "execution_count": 13,
   "metadata": {},
   "outputs": [
    {
     "name": "stdout",
     "output_type": "stream",
     "text": [
      "Requirement already satisfied: matplotlib in c:\\users\\this pc\\appdata\\local\\programs\\python\\python312\\lib\\site-packages (3.10.3)\n",
      "Requirement already satisfied: contourpy>=1.0.1 in c:\\users\\this pc\\appdata\\local\\programs\\python\\python312\\lib\\site-packages (from matplotlib) (1.3.3)\n",
      "Requirement already satisfied: cycler>=0.10 in c:\\users\\this pc\\appdata\\local\\programs\\python\\python312\\lib\\site-packages (from matplotlib) (0.12.1)\n",
      "Requirement already satisfied: fonttools>=4.22.0 in c:\\users\\this pc\\appdata\\local\\programs\\python\\python312\\lib\\site-packages (from matplotlib) (4.59.0)\n",
      "Requirement already satisfied: kiwisolver>=1.3.1 in c:\\users\\this pc\\appdata\\local\\programs\\python\\python312\\lib\\site-packages (from matplotlib) (1.4.8)\n",
      "Requirement already satisfied: numpy>=1.23 in c:\\users\\this pc\\appdata\\local\\programs\\python\\python312\\lib\\site-packages (from matplotlib) (2.3.2)\n",
      "Requirement already satisfied: packaging>=20.0 in c:\\users\\this pc\\appdata\\roaming\\python\\python312\\site-packages (from matplotlib) (25.0)\n",
      "Requirement already satisfied: pillow>=8 in c:\\users\\this pc\\appdata\\local\\programs\\python\\python312\\lib\\site-packages (from matplotlib) (11.3.0)\n",
      "Requirement already satisfied: pyparsing>=2.3.1 in c:\\users\\this pc\\appdata\\local\\programs\\python\\python312\\lib\\site-packages (from matplotlib) (3.2.3)\n",
      "Requirement already satisfied: python-dateutil>=2.7 in c:\\users\\this pc\\appdata\\roaming\\python\\python312\\site-packages (from matplotlib) (2.9.0.post0)\n",
      "Requirement already satisfied: six>=1.5 in c:\\users\\this pc\\appdata\\roaming\\python\\python312\\site-packages (from python-dateutil>=2.7->matplotlib) (1.17.0)\n",
      "Note: you may need to restart the kernel to use updated packages.\n"
     ]
    },
    {
     "name": "stderr",
     "output_type": "stream",
     "text": [
      "\n",
      "[notice] A new release of pip is available: 24.0 -> 25.1.1\n",
      "[notice] To update, run: python.exe -m pip install --upgrade pip\n"
     ]
    }
   ],
   "source": [
    "%pip install matplotlib\n"
   ]
  },
  {
   "cell_type": "code",
   "execution_count": 14,
   "metadata": {
    "colab": {
     "base_uri": "https://localhost:8080/"
    },
    "executionInfo": {
     "elapsed": 240,
     "status": "ok",
     "timestamp": 1753854902560,
     "user": {
      "displayName": "Nethmi Dilunika",
      "userId": "04356007990497424038"
     },
     "user_tz": -330
    },
    "id": "tQF5DdcoqFN7",
    "outputId": "982cb5af-c37b-4748-98ad-90b3920b773f"
   },
   "outputs": [
    {
     "name": "stdout",
     "output_type": "stream",
     "text": [
      "Shape: (119390, 32)\n",
      "\n",
      "Data Types:\n",
      " hotel                              object\n",
      "is_canceled                         int64\n",
      "lead_time                           int64\n",
      "arrival_date_year                   int64\n",
      "arrival_date_month                 object\n",
      "arrival_date_week_number            int64\n",
      "arrival_date_day_of_month           int64\n",
      "stays_in_weekend_nights             int64\n",
      "stays_in_week_nights                int64\n",
      "adults                              int64\n",
      "children                          float64\n",
      "babies                              int64\n",
      "meal                               object\n",
      "country                            object\n",
      "market_segment                     object\n",
      "distribution_channel               object\n",
      "is_repeated_guest                   int64\n",
      "previous_cancellations              int64\n",
      "previous_bookings_not_canceled      int64\n",
      "reserved_room_type                 object\n",
      "assigned_room_type                 object\n",
      "booking_changes                     int64\n",
      "deposit_type                       object\n",
      "agent                             float64\n",
      "company                           float64\n",
      "days_in_waiting_list                int64\n",
      "customer_type                      object\n",
      "adr                               float64\n",
      "required_car_parking_spaces         int64\n",
      "total_of_special_requests           int64\n",
      "reservation_status                 object\n",
      "reservation_status_date            object\n",
      "dtype: object\n",
      "\n",
      "First 5 rows:\n",
      "           hotel  is_canceled  lead_time  arrival_date_year arrival_date_month  \\\n",
      "0  Resort Hotel            0        342               2015               July   \n",
      "1  Resort Hotel            0        737               2015               July   \n",
      "2  Resort Hotel            0          7               2015               July   \n",
      "3  Resort Hotel            0         13               2015               July   \n",
      "4  Resort Hotel            0         14               2015               July   \n",
      "\n",
      "   arrival_date_week_number  arrival_date_day_of_month  \\\n",
      "0                        27                          1   \n",
      "1                        27                          1   \n",
      "2                        27                          1   \n",
      "3                        27                          1   \n",
      "4                        27                          1   \n",
      "\n",
      "   stays_in_weekend_nights  stays_in_week_nights  adults  ...  deposit_type  \\\n",
      "0                        0                     0       2  ...    No Deposit   \n",
      "1                        0                     0       2  ...    No Deposit   \n",
      "2                        0                     1       1  ...    No Deposit   \n",
      "3                        0                     1       1  ...    No Deposit   \n",
      "4                        0                     2       2  ...    No Deposit   \n",
      "\n",
      "   agent company days_in_waiting_list customer_type   adr  \\\n",
      "0    NaN     NaN                    0     Transient   0.0   \n",
      "1    NaN     NaN                    0     Transient   0.0   \n",
      "2    NaN     NaN                    0     Transient  75.0   \n",
      "3  304.0     NaN                    0     Transient  75.0   \n",
      "4  240.0     NaN                    0     Transient  98.0   \n",
      "\n",
      "   required_car_parking_spaces  total_of_special_requests  reservation_status  \\\n",
      "0                            0                          0           Check-Out   \n",
      "1                            0                          0           Check-Out   \n",
      "2                            0                          0           Check-Out   \n",
      "3                            0                          0           Check-Out   \n",
      "4                            0                          1           Check-Out   \n",
      "\n",
      "  reservation_status_date  \n",
      "0              2015-07-01  \n",
      "1              2015-07-01  \n",
      "2              2015-07-02  \n",
      "3              2015-07-02  \n",
      "4              2015-07-03  \n",
      "\n",
      "[5 rows x 32 columns]\n",
      "\n",
      "Last 5 rows:\n",
      "              hotel  is_canceled  lead_time  arrival_date_year  \\\n",
      "119385  City Hotel            0         23               2017   \n",
      "119386  City Hotel            0        102               2017   \n",
      "119387  City Hotel            0         34               2017   \n",
      "119388  City Hotel            0        109               2017   \n",
      "119389  City Hotel            0        205               2017   \n",
      "\n",
      "       arrival_date_month  arrival_date_week_number  \\\n",
      "119385             August                        35   \n",
      "119386             August                        35   \n",
      "119387             August                        35   \n",
      "119388             August                        35   \n",
      "119389             August                        35   \n",
      "\n",
      "        arrival_date_day_of_month  stays_in_weekend_nights  \\\n",
      "119385                         30                        2   \n",
      "119386                         31                        2   \n",
      "119387                         31                        2   \n",
      "119388                         31                        2   \n",
      "119389                         29                        2   \n",
      "\n",
      "        stays_in_week_nights  adults  ...  deposit_type  agent company  \\\n",
      "119385                     5       2  ...    No Deposit  394.0     NaN   \n",
      "119386                     5       3  ...    No Deposit    9.0     NaN   \n",
      "119387                     5       2  ...    No Deposit    9.0     NaN   \n",
      "119388                     5       2  ...    No Deposit   89.0     NaN   \n",
      "119389                     7       2  ...    No Deposit    9.0     NaN   \n",
      "\n",
      "       days_in_waiting_list customer_type     adr  \\\n",
      "119385                    0     Transient   96.14   \n",
      "119386                    0     Transient  225.43   \n",
      "119387                    0     Transient  157.71   \n",
      "119388                    0     Transient  104.40   \n",
      "119389                    0     Transient  151.20   \n",
      "\n",
      "        required_car_parking_spaces  total_of_special_requests  \\\n",
      "119385                            0                          0   \n",
      "119386                            0                          2   \n",
      "119387                            0                          4   \n",
      "119388                            0                          0   \n",
      "119389                            0                          2   \n",
      "\n",
      "        reservation_status reservation_status_date  \n",
      "119385           Check-Out              2017-09-06  \n",
      "119386           Check-Out              2017-09-07  \n",
      "119387           Check-Out              2017-09-07  \n",
      "119388           Check-Out              2017-09-07  \n",
      "119389           Check-Out              2017-09-07  \n",
      "\n",
      "[5 rows x 32 columns]\n",
      "\n",
      "Summary Statistics:\n",
      "              hotel    is_canceled      lead_time  arrival_date_year  \\\n",
      "count       119390  119390.000000  119390.000000      119390.000000   \n",
      "unique           2            NaN            NaN                NaN   \n",
      "top     City Hotel            NaN            NaN                NaN   \n",
      "freq         79330            NaN            NaN                NaN   \n",
      "mean           NaN       0.370416     104.011416        2016.156554   \n",
      "std            NaN       0.482918     106.863097           0.707476   \n",
      "min            NaN       0.000000       0.000000        2015.000000   \n",
      "25%            NaN       0.000000      18.000000        2016.000000   \n",
      "50%            NaN       0.000000      69.000000        2016.000000   \n",
      "75%            NaN       1.000000     160.000000        2017.000000   \n",
      "max            NaN       1.000000     737.000000        2017.000000   \n",
      "\n",
      "       arrival_date_month  arrival_date_week_number  \\\n",
      "count              119390             119390.000000   \n",
      "unique                 12                       NaN   \n",
      "top                August                       NaN   \n",
      "freq                13877                       NaN   \n",
      "mean                  NaN                 27.165173   \n",
      "std                   NaN                 13.605138   \n",
      "min                   NaN                  1.000000   \n",
      "25%                   NaN                 16.000000   \n",
      "50%                   NaN                 28.000000   \n",
      "75%                   NaN                 38.000000   \n",
      "max                   NaN                 53.000000   \n",
      "\n",
      "        arrival_date_day_of_month  stays_in_weekend_nights  \\\n",
      "count               119390.000000            119390.000000   \n",
      "unique                        NaN                      NaN   \n",
      "top                           NaN                      NaN   \n",
      "freq                          NaN                      NaN   \n",
      "mean                    15.798241                 0.927599   \n",
      "std                      8.780829                 0.998613   \n",
      "min                      1.000000                 0.000000   \n",
      "25%                      8.000000                 0.000000   \n",
      "50%                     16.000000                 1.000000   \n",
      "75%                     23.000000                 2.000000   \n",
      "max                     31.000000                19.000000   \n",
      "\n",
      "        stays_in_week_nights         adults  ...  deposit_type          agent  \\\n",
      "count          119390.000000  119390.000000  ...        119390  103050.000000   \n",
      "unique                   NaN            NaN  ...             3            NaN   \n",
      "top                      NaN            NaN  ...    No Deposit            NaN   \n",
      "freq                     NaN            NaN  ...        104641            NaN   \n",
      "mean                2.500302       1.856403  ...           NaN      86.693382   \n",
      "std                 1.908286       0.579261  ...           NaN     110.774548   \n",
      "min                 0.000000       0.000000  ...           NaN       1.000000   \n",
      "25%                 1.000000       2.000000  ...           NaN       9.000000   \n",
      "50%                 2.000000       2.000000  ...           NaN      14.000000   \n",
      "75%                 3.000000       2.000000  ...           NaN     229.000000   \n",
      "max                50.000000      55.000000  ...           NaN     535.000000   \n",
      "\n",
      "            company days_in_waiting_list customer_type            adr  \\\n",
      "count   6797.000000        119390.000000        119390  119390.000000   \n",
      "unique          NaN                  NaN             4            NaN   \n",
      "top             NaN                  NaN     Transient            NaN   \n",
      "freq            NaN                  NaN         89613            NaN   \n",
      "mean     189.266735             2.321149           NaN     101.831122   \n",
      "std      131.655015            17.594721           NaN      50.535790   \n",
      "min        6.000000             0.000000           NaN      -6.380000   \n",
      "25%       62.000000             0.000000           NaN      69.290000   \n",
      "50%      179.000000             0.000000           NaN      94.575000   \n",
      "75%      270.000000             0.000000           NaN     126.000000   \n",
      "max      543.000000           391.000000           NaN    5400.000000   \n",
      "\n",
      "        required_car_parking_spaces  total_of_special_requests  \\\n",
      "count                 119390.000000              119390.000000   \n",
      "unique                          NaN                        NaN   \n",
      "top                             NaN                        NaN   \n",
      "freq                            NaN                        NaN   \n",
      "mean                       0.062518                   0.571363   \n",
      "std                        0.245291                   0.792798   \n",
      "min                        0.000000                   0.000000   \n",
      "25%                        0.000000                   0.000000   \n",
      "50%                        0.000000                   0.000000   \n",
      "75%                        0.000000                   1.000000   \n",
      "max                        8.000000                   5.000000   \n",
      "\n",
      "        reservation_status reservation_status_date  \n",
      "count               119390                  119390  \n",
      "unique                   3                     926  \n",
      "top              Check-Out              2015-10-21  \n",
      "freq                 75166                    1461  \n",
      "mean                   NaN                     NaN  \n",
      "std                    NaN                     NaN  \n",
      "min                    NaN                     NaN  \n",
      "25%                    NaN                     NaN  \n",
      "50%                    NaN                     NaN  \n",
      "75%                    NaN                     NaN  \n",
      "max                    NaN                     NaN  \n",
      "\n",
      "[11 rows x 32 columns]\n"
     ]
    }
   ],
   "source": [
    "\n",
    "import pandas as pd\n",
    "\n",
    "# Load the dataset\n",
    "df = pd.read_csv('../data/hotel_bookings.csv')\n",
    "\n",
    "# Shape of the dataset\n",
    "print(\"Shape:\", df.shape)\n",
    "\n",
    "# Data types\n",
    "print(\"\\nData Types:\\n\", df.dtypes)\n",
    "\n",
    "# First and last 5 rows\n",
    "print(\"\\nFirst 5 rows:\\n\", df.head())\n",
    "print(\"\\nLast 5 rows:\\n\", df.tail())\n",
    "\n",
    "# Summary statistics\n",
    "print(\"\\nSummary Statistics:\\n\", df.describe(include='all'))\n"
   ]
  },
  {
   "cell_type": "markdown",
   "metadata": {
    "id": "RQxTPvF_sDLg"
   },
   "source": [
    "1.2 Missing Value Analysis"
   ]
  },
  {
   "cell_type": "code",
   "execution_count": 15,
   "metadata": {
    "colab": {
     "base_uri": "https://localhost:8080/",
     "height": 1000
    },
    "executionInfo": {
     "elapsed": 3469,
     "status": "ok",
     "timestamp": 1753854910166,
     "user": {
      "displayName": "Nethmi Dilunika",
      "userId": "04356007990497424038"
     },
     "user_tz": -330
    },
    "id": "SSVuMF32sJCN",
    "outputId": "d3145682-ca2c-4638-c88c-a276a1eb0710"
   },
   "outputs": [
    {
     "name": "stdout",
     "output_type": "stream",
     "text": [
      "          Missing Values    Percent\n",
      "company           112593  94.306893\n",
      "agent              16340  13.686238\n",
      "country              488   0.408744\n",
      "children               4   0.003350\n"
     ]
    },
    {
     "data": {
      "image/png": "[encoded data removed]",
      "text/plain": [
       "<Figure size 1200x600 with 1 Axes>"
      ]
     },
     "metadata": {},
     "output_type": "display_data"
    }
   ],
   "source": [
    "\n",
    "\n",
    "import seaborn as sns\n",
    "import matplotlib.pyplot as plt\n",
    "\n",
    "# Total and % missing values\n",
    "missing = df.isnull().sum()\n",
    "missing_percent = (missing / len(df)) * 100\n",
    "missing_df = pd.DataFrame({'Missing Values': missing, 'Percent': missing_percent})\n",
    "missing_df = missing_df[missing_df['Missing Values'] > 0].sort_values(by='Percent', ascending=False)\n",
    "print(missing_df)\n",
    "\n",
    "# Heatmap of missing values\n",
    "plt.figure(figsize=(12, 6))\n",
    "sns.heatmap(df.isnull(), cbar=False, cmap='viridis')\n",
    "plt.title('Missing Values Heatmap')\n",
    "plt.show()\n"
   ]
  },
  {
   "cell_type": "markdown",
   "metadata": {
    "id": "KxkBq8EosaN0"
   },
   "source": [
    "1.3 Data Quality Assessment"
   ]
  },
  {
   "cell_type": "code",
   "execution_count": 16,
   "metadata": {
    "colab": {
     "base_uri": "https://localhost:8080/",
     "height": 515
    },
    "executionInfo": {
     "elapsed": 367,
     "status": "ok",
     "timestamp": 1753854916804,
     "user": {
      "displayName": "Nethmi Dilunika",
      "userId": "04356007990497424038"
     },
     "user_tz": -330
    },
    "id": "w-tCkUyeseYL",
    "outputId": "c44ce709-8428-4d07-e4d3-06b689fab47e"
   },
   "outputs": [
    {
     "name": "stdout",
     "output_type": "stream",
     "text": [
      "Number of duplicate rows: 31994\n"
     ]
    },
    {
     "data": {
      "image/png": "[encoded data removed]",
      "text/plain": [
       "<Figure size 1000x500 with 2 Axes>"
      ]
     },
     "metadata": {},
     "output_type": "display_data"
    },
    {
     "name": "stdout",
     "output_type": "stream",
     "text": [
      "Records with 0 guests: 180\n"
     ]
    }
   ],
   "source": [
    "# Check for duplicates\n",
    "duplicate_rows = df[df.duplicated()]\n",
    "print(f\"Number of duplicate rows: {duplicate_rows.shape[0]}\")\n",
    "\n",
    "# Quick outlier check (boxplot)\n",
    "import matplotlib.pyplot as plt\n",
    "df[['lead_time', 'adr']].plot(kind='box', subplots=True, layout=(1,2), figsize=(10,5))\n",
    "plt.suptitle(\"Outlier Check\")\n",
    "plt.show()\n",
    "\n",
    "# Check for total guests = 0 (illogical)\n",
    "df['total_guests'] = df['adults'] + df['children'] + df['babies']\n",
    "zero_guests = df[df['total_guests'] == 0]\n",
    "print(f\"Records with 0 guests: {zero_guests.shape[0]}\")\n"
   ]
  },
  {
   "cell_type": "markdown",
   "metadata": {
    "id": "y5fb_cw1sjas"
   },
   "source": [
    "Phase 02"
   ]
  },
  {
   "cell_type": "markdown",
   "metadata": {
    "id": "gEaH6USHsldT"
   },
   "source": [
    "2.1 Handling Missing Values"
   ]
  },
  {
   "cell_type": "code",
   "execution_count": 17,
   "metadata": {
    "colab": {
     "base_uri": "https://localhost:8080/"
    },
    "executionInfo": {
     "elapsed": 40,
     "status": "ok",
     "timestamp": 1753854920355,
     "user": {
      "displayName": "Nethmi Dilunika",
      "userId": "04356007990497424038"
     },
     "user_tz": -330
    },
    "id": "4PV-P3f_svcD",
    "outputId": "e29c3443-e24a-4d17-ef8f-874df782f560"
   },
   "outputs": [
    {
     "name": "stderr",
     "output_type": "stream",
     "text": [
      "C:\\Users\\This PC\\AppData\\Local\\Temp\\ipykernel_1432\\2828193539.py:2: FutureWarning: A value is trying to be set on a copy of a DataFrame or Series through chained assignment using an inplace method.\n",
      "The behavior will change in pandas 3.0. This inplace method will never work because the intermediate object on which we are setting values always behaves as a copy.\n",
      "\n",
      "For example, when doing 'df[col].method(value, inplace=True)', try using 'df.method({col: value}, inplace=True)' or df[col] = df[col].method(value) instead, to perform the operation inplace on the original object.\n",
      "\n",
      "\n",
      "  df['children'].fillna(0, inplace=True)\n",
      "C:\\Users\\This PC\\AppData\\Local\\Temp\\ipykernel_1432\\2828193539.py:6: FutureWarning: A value is trying to be set on a copy of a DataFrame or Series through chained assignment using an inplace method.\n",
      "The behavior will change in pandas 3.0. This inplace method will never work because the intermediate object on which we are setting values always behaves as a copy.\n",
      "\n",
      "For example, when doing 'df[col].method(value, inplace=True)', try using 'df.method({col: value}, inplace=True)' or df[col] = df[col].method(value) instead, to perform the operation inplace on the original object.\n",
      "\n",
      "\n",
      "  df['country'].fillna(country_mode, inplace=True)  # or df['country'].fillna('Unknown')\n",
      "C:\\Users\\This PC\\AppData\\Local\\Temp\\ipykernel_1432\\2828193539.py:9: FutureWarning: A value is trying to be set on a copy of a DataFrame or Series through chained assignment using an inplace method.\n",
      "The behavior will change in pandas 3.0. This inplace method will never work because the intermediate object on which we are setting values always behaves as a copy.\n",
      "\n",
      "For example, when doing 'df[col].method(value, inplace=True)', try using 'df.method({col: value}, inplace=True)' or df[col] = df[col].method(value) instead, to perform the operation inplace on the original object.\n",
      "\n",
      "\n",
      "  df['agent'].fillna(0, inplace=True)\n",
      "C:\\Users\\This PC\\AppData\\Local\\Temp\\ipykernel_1432\\2828193539.py:10: FutureWarning: A value is trying to be set on a copy of a DataFrame or Series through chained assignment using an inplace method.\n",
      "The behavior will change in pandas 3.0. This inplace method will never work because the intermediate object on which we are setting values always behaves as a copy.\n",
      "\n",
      "For example, when doing 'df[col].method(value, inplace=True)', try using 'df.method({col: value}, inplace=True)' or df[col] = df[col].method(value) instead, to perform the operation inplace on the original object.\n",
      "\n",
      "\n",
      "  df['company'].fillna(0, inplace=True)\n"
     ]
    }
   ],
   "source": [
    "# Fill missing children values with 0\n",
    "df['children'].fillna(0, inplace=True)\n",
    "\n",
    "# Fill missing country with mode\n",
    "country_mode = df['country'].mode()[0]\n",
    "df['country'].fillna(country_mode, inplace=True)  # or df['country'].fillna('Unknown')\n",
    "\n",
    "# Fill missing agent/company with 0\n",
    "df['agent'].fillna(0, inplace=True)\n",
    "df['company'].fillna(0, inplace=True)\n",
    "\n",
    "# Ensure they are correct types (agent and company might be float)\n",
    "df['agent'] = df['agent'].astype(int)\n",
    "df['company'] = df['company'].astype(int)\n",
    "df['children'] = df['children'].astype(int)\n"
   ]
  },
  {
   "cell_type": "markdown",
   "metadata": {
    "id": "5c4TjuftszbE"
   },
   "source": [
    "2.2 Duplicate Detection and Removal"
   ]
  },
  {
   "cell_type": "code",
   "execution_count": 18,
   "metadata": {
    "colab": {
     "base_uri": "https://localhost:8080/"
    },
    "executionInfo": {
     "elapsed": 46,
     "status": "ok",
     "timestamp": 1753854923393,
     "user": {
      "displayName": "Nethmi Dilunika",
      "userId": "04356007990497424038"
     },
     "user_tz": -330
    },
    "id": "Nr22mOi6s3Nd",
    "outputId": "65f7a044-fefa-4cf5-ce93-d72f8fc49bf4"
   },
   "outputs": [
    {
     "name": "stdout",
     "output_type": "stream",
     "text": [
      "Duplicate rows: 32013\n",
      "New shape after removing duplicates: (87377, 33)\n"
     ]
    }
   ],
   "source": [
    "# Check for duplicates\n",
    "duplicate_rows = df[df.duplicated()]\n",
    "print(f\"Duplicate rows: {duplicate_rows.shape[0]}\")\n",
    "\n",
    "# Drop duplicates\n",
    "df = df.drop_duplicates()\n",
    "print(f\"New shape after removing duplicates: {df.shape}\")\n"
   ]
  },
  {
   "cell_type": "markdown",
   "metadata": {
    "id": "TP82wO6Os6LE"
   },
   "source": [
    "2.3 Outlier Detection and Treatment"
   ]
  },
  {
   "cell_type": "code",
   "execution_count": 19,
   "metadata": {
    "colab": {
     "base_uri": "https://localhost:8080/"
    },
    "executionInfo": {
     "elapsed": 43,
     "status": "ok",
     "timestamp": 1753818073012,
     "user": {
      "displayName": "Nethmi Dilunika",
      "userId": "04356007990497424038"
     },
     "user_tz": -330
    },
    "id": "zJ0Rt1Bds95K",
    "outputId": "489bcea2-c56d-4443-8843-114cf52466ff"
   },
   "outputs": [
    {
     "name": "stdout",
     "output_type": "stream",
     "text": [
      "Outliers in lead_time: 2396\n"
     ]
    }
   ],
   "source": [
    "# Example: IQR for lead_time\n",
    "Q1 = df['lead_time'].quantile(0.25)\n",
    "Q3 = df['lead_time'].quantile(0.75)\n",
    "IQR = Q3 - Q1\n",
    "\n",
    "# Filter out outliers\n",
    "outliers = df[(df['lead_time'] < (Q1 - 1.5 * IQR)) | (df['lead_time'] > (Q3 + 1.5 * IQR))]\n",
    "print(f\"Outliers in lead_time: {outliers.shape[0]}\")\n",
    "\n",
    "# Option: Remove them\n",
    "df = df[~df.index.isin(outliers.index)]\n"
   ]
  },
  {
   "cell_type": "markdown",
   "metadata": {
    "id": "I4es2VRztBIc"
   },
   "source": [
    "2.4 Fix Data Inconsistencies"
   ]
  },
  {
   "cell_type": "code",
   "execution_count": 20,
   "metadata": {
    "colab": {
     "base_uri": "https://localhost:8080/"
    },
    "executionInfo": {
     "elapsed": 47,
     "status": "ok",
     "timestamp": 1753854927499,
     "user": {
      "displayName": "Nethmi Dilunika",
      "userId": "04356007990497424038"
     },
     "user_tz": -330
    },
    "id": "mIhNX1j6tEVz",
    "outputId": "543ca482-b4dc-4414-fa89-171e543917c9"
   },
   "outputs": [],
   "source": [
    "# Remove rows with total guests = 0\n",
    "df['total_guests'] = df['adults'] + df['children'] + df['babies']\n",
    "df = df[df['total_guests'] > 0]\n",
    "\n",
    "# Optional: convert dates to datetime\n",
    "df['reservation_status_date'] = pd.to_datetime(df['reservation_status_date'])\n"
   ]
  },
  {
   "cell_type": "markdown",
   "metadata": {
    "id": "aFF9WzX2tIT0"
   },
   "source": [
    "Phase 03"
   ]
  },
  {
   "cell_type": "markdown",
   "metadata": {
    "id": "zjIgtK6StKla"
   },
   "source": [
    "3.1 Data Integrity Checks"
   ]
  },
  {
   "cell_type": "code",
   "execution_count": 21,
   "metadata": {
    "colab": {
     "base_uri": "https://localhost:8080/"
    },
    "executionInfo": {
     "elapsed": 60,
     "status": "ok",
     "timestamp": 1753854930625,
     "user": {
      "displayName": "Nethmi Dilunika",
      "userId": "04356007990497424038"
     },
     "user_tz": -330
    },
    "id": "s67jZ0sKtTI6",
    "outputId": "af7d2b64-6f8a-43bd-bd9e-25450f15d3c4"
   },
   "outputs": [
    {
     "name": "stdout",
     "output_type": "stream",
     "text": [
      "[2015 2016 2017]\n",
      "['July' 'August' 'September' 'October' 'November' 'December' 'January'\n",
      " 'February' 'March' 'April' 'May' 'June']\n",
      "          lead_time           adr  stays_in_week_nights        babies\n",
      "count  84817.000000  84817.000000          84817.000000  84817.000000\n",
      "mean      72.316741    106.864518              2.592605      0.010882\n",
      "std       73.361504     55.109413              2.014885      0.114036\n",
      "min        0.000000     -6.380000              0.000000      0.000000\n",
      "25%       11.000000     72.250000              1.000000      0.000000\n",
      "50%       46.000000     99.000000              2.000000      0.000000\n",
      "75%      117.000000    135.000000              3.000000      0.000000\n",
      "max      296.000000   5400.000000             50.000000     10.000000\n",
      "['BB' 'FB' 'HB' 'SC' 'Undefined']\n",
      "['Direct' 'Corporate' 'Online TA' 'Offline TA/TO' 'Complementary' 'Groups'\n",
      " 'Undefined' 'Aviation']\n"
     ]
    }
   ],
   "source": [
    "# 1. Guests > 0 (already filtered in Phase 2, but recheck)\n",
    "df['total_guests'] = df['adults'] + df['children'] + df['babies']\n",
    "assert df['total_guests'].min() > 0, \"Found records with 0 guests!\"\n",
    "\n",
    "# 2. Arrival dates valid\n",
    "print(df['arrival_date_year'].unique())  # Should be 2015, 2016, 2017\n",
    "print(df['arrival_date_month'].unique())  # Should be valid month names\n",
    "\n",
    "# 3. Numerical ranges\n",
    "print(df[['lead_time', 'adr', 'stays_in_week_nights', 'babies']].describe())\n",
    "\n",
    "# 4. Check categories\n",
    "print(df['meal'].unique())  # Should be only known meal types\n",
    "print(df['market_segment'].unique())  # Should be consistent\n"
   ]
  },
  {
   "cell_type": "markdown",
   "metadata": {
    "id": "Tj8sHfpzw3Mp"
   },
   "source": [
    "3.3 Final Dataset Preparation"
   ]
  },
  {
   "cell_type": "code",
   "execution_count": 22,
   "metadata": {
    "executionInfo": {
     "elapsed": 115,
     "status": "ok",
     "timestamp": 1753854936493,
     "user": {
      "displayName": "Nethmi Dilunika",
      "userId": "04356007990497424038"
     },
     "user_tz": -330
    },
    "id": "nU-2kbvQyG7P"
   },
   "outputs": [],
   "source": [
    "# Save cleaned dataset\n",
    "df.to_csv('hotel_bookings_cleaned.csv', index=False)\n"
   ]
  },
  {
   "cell_type": "markdown",
   "metadata": {
    "id": "PQuEkpPk5MOY"
   },
   "source": [
    "Advanced Extensions"
   ]
  },
  {
   "cell_type": "markdown",
   "metadata": {
    "id": "lckHzh345NeV"
   },
   "source": [
    "1. Feature Engineering"
   ]
  },
  {
   "cell_type": "code",
   "execution_count": 23,
   "metadata": {
    "executionInfo": {
     "elapsed": 188,
     "status": "ok",
     "timestamp": 1753855836419,
     "user": {
      "displayName": "Nethmi Dilunika",
      "userId": "04356007990497424038"
     },
     "user_tz": -330
    },
    "id": "cQm2hlrs6Wsq"
   },
   "outputs": [],
   "source": [
    "# Create total nights stayed\n",
    "df['total_nights'] = df['stays_in_week_nights'] + df['stays_in_weekend_nights']\n",
    "\n",
    "# Create total guests\n",
    "df['total_guests'] = df['adults'] + df['children'] + df['babies']\n",
    "\n",
    "# Create booking month as number\n",
    "import calendar\n",
    "df['arrival_month_num'] = df['arrival_date_month'].apply(lambda x: list(calendar.month_name).index(x))\n",
    "\n",
    "# High season flag (assume July, August as high season)\n",
    "df['is_high_season'] = df['arrival_date_month'].isin(['July', 'August'])\n",
    "\n",
    "# Weekday or weekend arrival\n",
    "df['arrival_date'] = pd.to_datetime(\n",
    "    df['arrival_date_year'].astype(str) + '-' +\n",
    "    df['arrival_month_num'].astype(str) + '-' +\n",
    "    df['arrival_date_day_of_month'].astype(str)\n",
    ")\n",
    "df['arrival_day_of_week'] = df['arrival_date'].dt.day_name()\n",
    "\n"
   ]
  },
  {
   "cell_type": "markdown",
   "metadata": {
    "id": "ZuH1uGKL6LNX"
   },
   "source": [
    " 2. Automated Cleaning Pipeline"
   ]
  },
  {
   "cell_type": "code",
   "execution_count": 24,
   "metadata": {
    "executionInfo": {
     "elapsed": 57,
     "status": "ok",
     "timestamp": 1753855205521,
     "user": {
      "displayName": "Nethmi Dilunika",
      "userId": "04356007990497424038"
     },
     "user_tz": -330
    },
    "id": "ydPzrPSu6MJ6"
   },
   "outputs": [],
   "source": [
    "def clean_hotel_data(df):\n",
    "    # Handle missing values\n",
    "    df['children'].fillna(0, inplace=True)\n",
    "    df['agent'].fillna(0, inplace=True)\n",
    "    df['company'].fillna(0, inplace=True)\n",
    "    df['country'].fillna(df['country'].mode()[0], inplace=True)\n",
    "\n",
    "    # Convert types\n",
    "    df['agent'] = df['agent'].astype(int)\n",
    "    df['company'] = df['company'].astype(int)\n",
    "    df['children'] = df['children'].astype(int)\n",
    "\n",
    "    # Remove duplicates\n",
    "    df.drop_duplicates(inplace=True)\n",
    "\n",
    "    # Remove rows with 0 total guests\n",
    "    df['total_guests'] = df['adults'] + df['children'] + df['babies']\n",
    "    df = df[df['total_guests'] > 0]\n",
    "\n",
    "    # Convert reservation date\n",
    "    df['reservation_status_date'] = pd.to_datetime(df['reservation_status_date'])\n",
    "\n",
    "    return df\n"
   ]
  },
  {
   "cell_type": "code",
   "execution_count": 30,
   "metadata": {
    "executionInfo": {
     "elapsed": 383,
     "status": "ok",
     "timestamp": 1753856412806,
     "user": {
      "displayName": "Nethmi Dilunika",
      "userId": "04356007990497424038"
     },
     "user_tz": -330
    },
    "id": "iPk7dF17_N5w"
   },
   "outputs": [],
   "source": [
    "df_original = pd.read_csv('../data/hotel_bookings.csv')\n",
    "df_cleaned = pd.read_csv('hotel_bookings_cleaned.csv')\n"
   ]
  },
  {
   "cell_type": "markdown",
   "metadata": {
    "id": "w4DuT6xb6qu7"
   },
   "source": [
    "Quality Metrics & Dashboards"
   ]
  },
  {
   "cell_type": "markdown",
   "metadata": {
    "id": "JdBZ7efD9m9T"
   },
   "source": [
    "Example metrics"
   ]
  },
  {
   "cell_type": "code",
   "execution_count": 31,
   "metadata": {
    "executionInfo": {
     "elapsed": 13,
     "status": "ok",
     "timestamp": 1753856438511,
     "user": {
      "displayName": "Nethmi Dilunika",
      "userId": "04356007990497424038"
     },
     "user_tz": -330
    },
    "id": "SkOKWUt39isj"
   },
   "outputs": [],
   "source": [
    "def quality_metrics(df_original, df_cleaned):\n",
    "    print(\"Original shape:\", df_original.shape)\n",
    "    print(\"Cleaned shape:\", df_cleaned.shape)\n",
    "    print(\"Duplicates removed:\", df_original.duplicated().sum())\n",
    "    print(\"Missing values (original):\")\n",
    "    print(df_original.isnull().sum()[df_original.isnull().sum() > 0])\n",
    "    print(\"Missing values (cleaned):\")\n",
    "    print(df_cleaned.isnull().sum().sum())  # should be 0\n"
   ]
  },
  {
   "cell_type": "markdown",
   "metadata": {
    "id": "jhdPLaNT9qX7"
   },
   "source": [
    "Visual (optional)"
   ]
  },
  {
   "cell_type": "code",
   "execution_count": 32,
   "metadata": {
    "colab": {
     "base_uri": "https://localhost:8080/",
     "height": 472
    },
    "executionInfo": {
     "elapsed": 2292,
     "status": "ok",
     "timestamp": 1753856420612,
     "user": {
      "displayName": "Nethmi Dilunika",
      "userId": "04356007990497424038"
     },
     "user_tz": -330
    },
    "id": "gVSPGOLN9vFy",
    "outputId": "b5dfea5e-13f8-4012-da02-55bdb73a7916"
   },
   "outputs": [
    {
     "data": {
      "image/png": "[encoded data removed]",
      "text/plain": [
       "<Figure size 640x480 with 1 Axes>"
      ]
     },
     "metadata": {},
     "output_type": "display_data"
    }
   ],
   "source": [
    "import seaborn as sns\n",
    "import matplotlib.pyplot as plt\n",
    "\n",
    "# ADR distribution before and after\n",
    "sns.kdeplot(df_original['adr'], label='Before Cleaning')\n",
    "sns.kdeplot(df_cleaned['adr'], label='After Cleaning')\n",
    "plt.title(\"ADR Distribution Comparison\")\n",
    "plt.legend()\n",
    "plt.show()\n"
   ]
  }
 ],
 "metadata": {
  "colab": {
   "authorship_tag": "ABX9TyP3O++9LvzJHN8GS+Qvdf1r",
   "provenance": [
    {
     "file_id": "1NSSEF7lhsiNtlOa-FHeyQKyuD9kP1LVB",
     "timestamp": 1753819559787
    },
    {
     "file_id": "1O3odpfy0b0EMaBrSL9wNno9qbkb7Z3OB",
     "timestamp": 1753819497356
    }
   ]
  },
  "kernelspec": {
   "display_name": "Python 3",
   "language": "python",
   "name": "python3"
  },
  "language_info": {
   "codemirror_mode": {
    "name": "ipython",
    "version": 3
   },
   "file_extension": ".py",
   "mimetype": "text/x-python",
   "name": "python",
   "nbconvert_exporter": "python",
   "pygments_lexer": "ipython3",
   "version": "3.12.3"
  }
 },
 "nbformat": 4,
 "nbformat_minor": 0
}
